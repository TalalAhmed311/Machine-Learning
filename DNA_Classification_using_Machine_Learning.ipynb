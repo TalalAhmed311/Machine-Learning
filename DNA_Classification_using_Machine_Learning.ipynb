{
  "nbformat": 4,
  "nbformat_minor": 0,
  "metadata": {
    "colab": {
      "name": "DNA Classification using Machine Learning.ipynb",
      "provenance": [],
      "collapsed_sections": []
    },
    "kernelspec": {
      "name": "python3",
      "display_name": "Python 3"
    },
    "language_info": {
      "name": "python"
    },
    "accelerator": "TPU"
  },
  "cells": [
    {
      "cell_type": "code",
      "metadata": {
        "colab": {
          "base_uri": "https://localhost:8080/"
        },
        "id": "MIRHF1iQ2auH",
        "outputId": "75522431-8191-4204-cfa0-06a24424ab90"
      },
      "source": [
        "from google.colab import drive\n",
        "drive.mount(\"/content/gdrive\")"
      ],
      "execution_count": null,
      "outputs": [
        {
          "output_type": "stream",
          "name": "stdout",
          "text": [
            "Mounted at /content/gdrive\n"
          ]
        }
      ]
    },
    {
      "cell_type": "code",
      "metadata": {
        "id": "p-jX5YYZ6fY8"
      },
      "source": [
        "import pandas as pd\n",
        "import numpy as np\n",
        "from sklearn.model_selection import train_test_split\n",
        "from sklearn.preprocessing import FunctionTransformer\n",
        "from sklearn.model_selection import GridSearchCV\n",
        "from sklearn.metrics import confusion_matrix , classification_report, accuracy_score\n",
        "from sklearn.feature_extraction.text import TfidfVectorizer\n",
        "from sklearn.feature_extraction.text import CountVectorizer\n",
        "from sklearn.feature_extraction.text import HashingVectorizer\n",
        "from sklearn.preprocessing import StandardScaler\n",
        "\n",
        "\n",
        "from sklearn.model_selection import cross_val_score\n",
        "from sklearn.pipeline import Pipeline\n",
        "from sklearn.metrics import roc_auc_score\n",
        "import matplotlib.pyplot as plt\n",
        "import seaborn as sns\n",
        "\n",
        "from sklearn.ensemble import AdaBoostClassifier\n",
        "from sklearn.neighbors import KNeighborsClassifier\n",
        "from sklearn.tree import DecisionTreeClassifier\n",
        "from sklearn.ensemble import RandomForestClassifier, VotingClassifier\n",
        "from sklearn.linear_model import LogisticRegression\n",
        "from sklearn.naive_bayes import MultinomialNB\n",
        "from sklearn.multiclass import OneVsRestClassifier\n",
        "from sklearn.decomposition import PCA\n",
        "from sklearn.decomposition import NMF\n",
        "\n"
      ],
      "execution_count": null,
      "outputs": []
    },
    {
      "cell_type": "code",
      "metadata": {
        "id": "el6fiP1l6_K4"
      },
      "source": [
        "human = pd.read_table('/content/gdrive/MyDrive/Colab Notebooks/DNA dataset/human.txt')\n",
        "chimpanzee = pd.read_table('/content/gdrive/MyDrive/Colab Notebooks/DNA dataset/chimpanzee.txt')\n",
        "dog = pd.read_table('/content/gdrive/MyDrive/Colab Notebooks/DNA dataset/dog.txt')"
      ],
      "execution_count": null,
      "outputs": []
    },
    {
      "cell_type": "code",
      "metadata": {
        "colab": {
          "base_uri": "https://localhost:8080/",
          "height": 204
        },
        "id": "WjiscWyP_wSw",
        "outputId": "d4a716d8-84fb-4f0b-8fe8-ee1f12dd7ce6"
      },
      "source": [
        "human.head()"
      ],
      "execution_count": null,
      "outputs": [
        {
          "output_type": "execute_result",
          "data": {
            "text/html": [
              "<div>\n",
              "<style scoped>\n",
              "    .dataframe tbody tr th:only-of-type {\n",
              "        vertical-align: middle;\n",
              "    }\n",
              "\n",
              "    .dataframe tbody tr th {\n",
              "        vertical-align: top;\n",
              "    }\n",
              "\n",
              "    .dataframe thead th {\n",
              "        text-align: right;\n",
              "    }\n",
              "</style>\n",
              "<table border=\"1\" class=\"dataframe\">\n",
              "  <thead>\n",
              "    <tr style=\"text-align: right;\">\n",
              "      <th></th>\n",
              "      <th>sequence</th>\n",
              "      <th>class</th>\n",
              "    </tr>\n",
              "  </thead>\n",
              "  <tbody>\n",
              "    <tr>\n",
              "      <th>0</th>\n",
              "      <td>ATGCCCCAACTAAATACTACCGTATGGCCCACCATAATTACCCCCA...</td>\n",
              "      <td>4</td>\n",
              "    </tr>\n",
              "    <tr>\n",
              "      <th>1</th>\n",
              "      <td>ATGAACGAAAATCTGTTCGCTTCATTCATTGCCCCCACAATCCTAG...</td>\n",
              "      <td>4</td>\n",
              "    </tr>\n",
              "    <tr>\n",
              "      <th>2</th>\n",
              "      <td>ATGTGTGGCATTTGGGCGCTGTTTGGCAGTGATGATTGCCTTTCTG...</td>\n",
              "      <td>3</td>\n",
              "    </tr>\n",
              "    <tr>\n",
              "      <th>3</th>\n",
              "      <td>ATGTGTGGCATTTGGGCGCTGTTTGGCAGTGATGATTGCCTTTCTG...</td>\n",
              "      <td>3</td>\n",
              "    </tr>\n",
              "    <tr>\n",
              "      <th>4</th>\n",
              "      <td>ATGCAACAGCATTTTGAATTTGAATACCAGACCAAAGTGGATGGTG...</td>\n",
              "      <td>3</td>\n",
              "    </tr>\n",
              "  </tbody>\n",
              "</table>\n",
              "</div>"
            ],
            "text/plain": [
              "                                            sequence  class\n",
              "0  ATGCCCCAACTAAATACTACCGTATGGCCCACCATAATTACCCCCA...      4\n",
              "1  ATGAACGAAAATCTGTTCGCTTCATTCATTGCCCCCACAATCCTAG...      4\n",
              "2  ATGTGTGGCATTTGGGCGCTGTTTGGCAGTGATGATTGCCTTTCTG...      3\n",
              "3  ATGTGTGGCATTTGGGCGCTGTTTGGCAGTGATGATTGCCTTTCTG...      3\n",
              "4  ATGCAACAGCATTTTGAATTTGAATACCAGACCAAAGTGGATGGTG...      3"
            ]
          },
          "metadata": {},
          "execution_count": 5
        }
      ]
    },
    {
      "cell_type": "code",
      "metadata": {
        "id": "KcxdWJ-4_2M6"
      },
      "source": [
        "def getKmers(sequence, size=6):\n",
        "    return [sequence[x:x+size].lower() for x in range(len(sequence) - size + 1)]"
      ],
      "execution_count": null,
      "outputs": []
    },
    {
      "cell_type": "code",
      "metadata": {
        "id": "d8P_5YF1AApU"
      },
      "source": [
        "human['words'] = human['sequence'].apply(getKmers)"
      ],
      "execution_count": null,
      "outputs": []
    },
    {
      "cell_type": "code",
      "metadata": {
        "colab": {
          "base_uri": "https://localhost:8080/",
          "height": 204
        },
        "id": "CxKu_fs9AOS8",
        "outputId": "29c6173e-d898-41ae-8e9a-5f09cde8b925"
      },
      "source": [
        "human.head()"
      ],
      "execution_count": null,
      "outputs": [
        {
          "output_type": "execute_result",
          "data": {
            "text/html": [
              "<div>\n",
              "<style scoped>\n",
              "    .dataframe tbody tr th:only-of-type {\n",
              "        vertical-align: middle;\n",
              "    }\n",
              "\n",
              "    .dataframe tbody tr th {\n",
              "        vertical-align: top;\n",
              "    }\n",
              "\n",
              "    .dataframe thead th {\n",
              "        text-align: right;\n",
              "    }\n",
              "</style>\n",
              "<table border=\"1\" class=\"dataframe\">\n",
              "  <thead>\n",
              "    <tr style=\"text-align: right;\">\n",
              "      <th></th>\n",
              "      <th>sequence</th>\n",
              "      <th>class</th>\n",
              "      <th>words</th>\n",
              "    </tr>\n",
              "  </thead>\n",
              "  <tbody>\n",
              "    <tr>\n",
              "      <th>0</th>\n",
              "      <td>ATGCCCCAACTAAATACTACCGTATGGCCCACCATAATTACCCCCA...</td>\n",
              "      <td>4</td>\n",
              "      <td>[atgccc, tgcccc, gcccca, ccccaa, cccaac, ccaac...</td>\n",
              "    </tr>\n",
              "    <tr>\n",
              "      <th>1</th>\n",
              "      <td>ATGAACGAAAATCTGTTCGCTTCATTCATTGCCCCCACAATCCTAG...</td>\n",
              "      <td>4</td>\n",
              "      <td>[atgaac, tgaacg, gaacga, aacgaa, acgaaa, cgaaa...</td>\n",
              "    </tr>\n",
              "    <tr>\n",
              "      <th>2</th>\n",
              "      <td>ATGTGTGGCATTTGGGCGCTGTTTGGCAGTGATGATTGCCTTTCTG...</td>\n",
              "      <td>3</td>\n",
              "      <td>[atgtgt, tgtgtg, gtgtgg, tgtggc, gtggca, tggca...</td>\n",
              "    </tr>\n",
              "    <tr>\n",
              "      <th>3</th>\n",
              "      <td>ATGTGTGGCATTTGGGCGCTGTTTGGCAGTGATGATTGCCTTTCTG...</td>\n",
              "      <td>3</td>\n",
              "      <td>[atgtgt, tgtgtg, gtgtgg, tgtggc, gtggca, tggca...</td>\n",
              "    </tr>\n",
              "    <tr>\n",
              "      <th>4</th>\n",
              "      <td>ATGCAACAGCATTTTGAATTTGAATACCAGACCAAAGTGGATGGTG...</td>\n",
              "      <td>3</td>\n",
              "      <td>[atgcaa, tgcaac, gcaaca, caacag, aacagc, acagc...</td>\n",
              "    </tr>\n",
              "  </tbody>\n",
              "</table>\n",
              "</div>"
            ],
            "text/plain": [
              "                                            sequence  ...                                              words\n",
              "0  ATGCCCCAACTAAATACTACCGTATGGCCCACCATAATTACCCCCA...  ...  [atgccc, tgcccc, gcccca, ccccaa, cccaac, ccaac...\n",
              "1  ATGAACGAAAATCTGTTCGCTTCATTCATTGCCCCCACAATCCTAG...  ...  [atgaac, tgaacg, gaacga, aacgaa, acgaaa, cgaaa...\n",
              "2  ATGTGTGGCATTTGGGCGCTGTTTGGCAGTGATGATTGCCTTTCTG...  ...  [atgtgt, tgtgtg, gtgtgg, tgtggc, gtggca, tggca...\n",
              "3  ATGTGTGGCATTTGGGCGCTGTTTGGCAGTGATGATTGCCTTTCTG...  ...  [atgtgt, tgtgtg, gtgtgg, tgtggc, gtggca, tggca...\n",
              "4  ATGCAACAGCATTTTGAATTTGAATACCAGACCAAAGTGGATGGTG...  ...  [atgcaa, tgcaac, gcaaca, caacag, aacagc, acagc...\n",
              "\n",
              "[5 rows x 3 columns]"
            ]
          },
          "metadata": {},
          "execution_count": 10
        }
      ]
    },
    {
      "cell_type": "code",
      "metadata": {
        "id": "WS7_rnM5Af9Q"
      },
      "source": [
        "words =list(human['words'])\n",
        "human_seq = [' '.join(words[i]) for i in range(len(words))]"
      ],
      "execution_count": null,
      "outputs": []
    },
    {
      "cell_type": "code",
      "metadata": {
        "colab": {
          "base_uri": "https://localhost:8080/",
          "height": 137
        },
        "id": "wosl5N-zBGuB",
        "outputId": "1da8a0ed-cc0e-48df-b550-a216206d5715"
      },
      "source": [
        "human_seq[0]"
      ],
      "execution_count": null,
      "outputs": [
        {
          "output_type": "execute_result",
          "data": {
            "application/vnd.google.colaboratory.intrinsic+json": {
              "type": "string"
            },
            "text/plain": [
              "'atgccc tgcccc gcccca ccccaa cccaac ccaact caacta aactaa actaaa ctaaat taaata aaatac aatact atacta tactac actacc ctaccg taccgt accgta ccgtat cgtatg gtatgg tatggc atggcc tggccc ggccca gcccac cccacc ccacca caccat accata ccataa cataat ataatt taatta aattac attacc ttaccc tacccc accccc ccccca ccccat cccata ccatac catact atactc tactcc actcct ctcctt tcctta ccttac cttaca ttacac tacact acacta cactat actatt ctattc tattcc attcct ttcctc tcctca cctcat ctcatc tcatca catcac atcacc tcaccc caccca acccaa cccaac ccaact caacta aactaa actaaa ctaaaa taaaaa aaaaat aaaata aaatat aatatt atatta tattaa attaaa ttaaac taaaca aaacac aacaca acacaa cacaaa acaaac caaact aaacta aactac actacc ctacca taccac accacc ccacct caccta acctac cctacc ctacct tacctc acctcc cctccc ctccct tccctc ccctca cctcac ctcacc tcacca caccaa accaaa ccaaag caaagc aaagcc aagccc agccca gcccat cccata ccataa cataaa ataaaa taaaaa aaaaat aaaata aaataa aataaa ataaaa taaaaa aaaaaa aaaaat aaaatt aaatta aattat attata ttataa tataac ataaca taacaa aacaaa acaaac caaacc aaaccc aaccct accctg ccctga cctgag ctgaga tgagaa gagaac agaacc gaacca aaccaa accaaa ccaaaa caaaat aaaatg aaatga aatgaa atgaac tgaacg gaacga aacgaa acgaaa cgaaaa gaaaat aaaatc aaatct aatctg atctgt tctgtt ctgttc tgttcg gttcgc ttcgct tcgctt cgcttc gcttca cttcat ttcatt tcattc cattca attcat ttcatt tcattg cattgc attgcc ttgccc tgcccc gccccc ccccca ccccac cccaca ccacaa cacaat acaatc caatcc aatcct atccta tcctag'"
            ]
          },
          "metadata": {},
          "execution_count": 14
        }
      ]
    },
    {
      "cell_type": "code",
      "metadata": {
        "id": "eXTZVT8nCKke"
      },
      "source": [
        "vec = CountVectorizer(ngram_range=(5,5))\n",
        "X = vec.fit_transform(human_seq)"
      ],
      "execution_count": null,
      "outputs": []
    },
    {
      "cell_type": "code",
      "metadata": {
        "colab": {
          "base_uri": "https://localhost:8080/"
        },
        "id": "HpsnvFcvCyqy",
        "outputId": "07f31ff9-bd64-477b-9e06-3557d99063db"
      },
      "source": [
        "X[0].toarray()"
      ],
      "execution_count": null,
      "outputs": [
        {
          "output_type": "execute_result",
          "data": {
            "text/plain": [
              "array([[0, 0, 0, ..., 0, 0, 0]])"
            ]
          },
          "metadata": {},
          "execution_count": 16
        }
      ]
    },
    {
      "cell_type": "code",
      "metadata": {
        "colab": {
          "base_uri": "https://localhost:8080/"
        },
        "id": "GnBuKbqFC7Wr",
        "outputId": "e93bc3eb-a7c9-4b00-e4ae-9916aacdd5ff"
      },
      "source": [
        "X.shape"
      ],
      "execution_count": null,
      "outputs": [
        {
          "output_type": "execute_result",
          "data": {
            "text/plain": [
              "(4380, 602855)"
            ]
          },
          "metadata": {},
          "execution_count": 40
        }
      ]
    },
    {
      "cell_type": "code",
      "metadata": {
        "id": "fNerF7ZXC--r"
      },
      "source": [
        "# Model building\n",
        "\n",
        "X_train, X_test, y_train, y_test = train_test_split(X,human['class'],test_size=0.3, random_state=42)"
      ],
      "execution_count": null,
      "outputs": []
    },
    {
      "cell_type": "code",
      "metadata": {
        "colab": {
          "base_uri": "https://localhost:8080/"
        },
        "id": "UKlD6loaDmD4",
        "outputId": "f6fb2347-2aac-4248-845c-938726f35714"
      },
      "source": [
        "print(X_train.shape)\n",
        "print(X_test.shape)"
      ],
      "execution_count": null,
      "outputs": [
        {
          "output_type": "stream",
          "name": "stdout",
          "text": [
            "(3066, 602855)\n",
            "(1314, 602855)\n"
          ]
        }
      ]
    },
    {
      "cell_type": "code",
      "metadata": {
        "colab": {
          "base_uri": "https://localhost:8080/"
        },
        "id": "5-wjTxiODrBB",
        "outputId": "014568aa-4fc0-4d4d-8a68-94ee6b658f84"
      },
      "source": [
        "knn =KNeighborsClassifier()\n",
        "knn.fit(X_train, y_train)\n",
        "knn.score(X_test, y_test)"
      ],
      "execution_count": null,
      "outputs": [
        {
          "output_type": "execute_result",
          "data": {
            "text/plain": [
              "0.7975646879756468"
            ]
          },
          "metadata": {},
          "execution_count": 19
        }
      ]
    },
    {
      "cell_type": "code",
      "metadata": {
        "id": "LYr_pI4vEWSp"
      },
      "source": [
        "scores = []\n",
        "k = []\n",
        "for i in range(3,30):\n",
        "  knn = KNeighborsClassifier(n_neighbors=i)\n",
        "  k.append(i)\n",
        "  knn.fit(X_train, y_train)\n",
        "  pred = knn.predict(X_test)\n",
        "\n",
        "  scores.append(accuracy_score(y_test, pred))"
      ],
      "execution_count": null,
      "outputs": []
    },
    {
      "cell_type": "code",
      "metadata": {
        "colab": {
          "base_uri": "https://localhost:8080/",
          "height": 279
        },
        "id": "vhhudMjyFVX2",
        "outputId": "ca483ed6-e724-48c6-85e7-d6278cce5aa3"
      },
      "source": [
        "import matplotlib.pyplot as plt\n",
        "\n",
        "plt.plot(k,scores, marker='*')\n",
        "plt.xlabel('Best K')\n",
        "plt.ylabel('Scores')\n",
        "plt.show()"
      ],
      "execution_count": null,
      "outputs": [
        {
          "output_type": "display_data",
          "data": {
            "image/png": "[encoded data removed]",
            "text/plain": [
              "<Figure size 432x288 with 1 Axes>"
            ]
          },
          "metadata": {
            "needs_background": "light"
          }
        }
      ]
    },
    {
      "cell_type": "code",
      "metadata": {
        "colab": {
          "base_uri": "https://localhost:8080/"
        },
        "id": "EWFo8iOvGTyE",
        "outputId": "553fdc86-ecbf-45c2-89f7-02965678ba43"
      },
      "source": [
        "knn = KNeighborsClassifier()\n",
        "np.mean(cross_val_score(knn, X_train, y_train, cv=10))"
      ],
      "execution_count": null,
      "outputs": [
        {
          "output_type": "execute_result",
          "data": {
            "text/plain": [
              "0.7655127631943113"
            ]
          },
          "metadata": {},
          "execution_count": 51
        }
      ]
    },
    {
      "cell_type": "markdown",
      "metadata": {
        "id": "OZylVvnIUf0u"
      },
      "source": [
        "# Preprocessing Pipeline"
      ]
    },
    {
      "cell_type": "code",
      "metadata": {
        "id": "_mH4_HW9MFXi"
      },
      "source": [
        "def Preprocess(sequence):\n",
        "\n",
        "  sequence = sequence.apply(lambda sequence, size=6: [sequence[x:x+size].lower() for x in range(len(sequence) - size + 1)])\n",
        "  sequence = sequence.apply(lambda seq: ' '.join(seq))\n",
        "  \n",
        "  vec = CountVectorizer(ngram_range=(5,5))\n",
        "  \n",
        "  return vec.fit_transform(sequence)"
      ],
      "execution_count": null,
      "outputs": []
    },
    {
      "cell_type": "code",
      "metadata": {
        "id": "VODn0zSiMdv9"
      },
      "source": [
        "def modeling(X, y):\n",
        "  models = {\n",
        "      'Logistic_reg': OneVsRestClassifier(LogisticRegression()),\n",
        "      'Decisiontree': DecisionTreeClassifier(),\n",
        "      'RandomForest':RandomForestClassifier(),\n",
        "      'AdaBoost': AdaBoostClassifier(),\n",
        "      'MultinomialNB':MultinomialNB(),\n",
        "      'KNN':KNeighborsClassifier()\n",
        "      \n",
        "  }\n",
        "\n",
        "  X_train, X_test, y_train, y_test = train_test_split(X, y, test_size= 0.3, random_state= 42, shuffle=True)\n",
        "\n",
        "  best_models = []\n",
        "  for model_name, model in models.items():\n",
        "    clf = GridSearchCV(model,param_grid={}, scoring='accuracy', cv=5)\n",
        "    clf.fit(X_train, y_train)\n",
        "    print('\\n')\n",
        "\n",
        "    best_models.append({'model':model_name,'score':clf.best_score_, 'Accuracy on X_test': accuracy_score(y_test, y_pred)})\n",
        "  \n",
        "  return best_models\n"
      ],
      "execution_count": null,
      "outputs": []
    },
    {
      "cell_type": "code",
      "metadata": {
        "id": "07lPFmIgNL1X"
      },
      "source": [
        "seq = Preprocess(human['sequence'])"
      ],
      "execution_count": null,
      "outputs": []
    },
    {
      "cell_type": "code",
      "metadata": {
        "colab": {
          "base_uri": "https://localhost:8080/"
        },
        "id": "Wb4efVo9a7yt",
        "outputId": "cebbb2a0-2207-4ddd-834e-2623e93af77a"
      },
      "source": [
        "seq.shape"
      ],
      "execution_count": null,
      "outputs": [
        {
          "output_type": "execute_result",
          "data": {
            "text/plain": [
              "(4380, 602855)"
            ]
          },
          "metadata": {},
          "execution_count": 9
        }
      ]
    },
    {
      "cell_type": "code",
      "metadata": {
        "colab": {
          "base_uri": "https://localhost:8080/"
        },
        "id": "rdU0y3n9grWf",
        "outputId": "a1595a9d-1dcb-443f-d0ed-d7473a5ec34f"
      },
      "source": [
        "modeling(seq, human['class'])"
      ],
      "execution_count": null,
      "outputs": [
        {
          "output_type": "execute_result",
          "data": {
            "text/plain": [
              "[{'model': 'Logistic_reg', 'score': 0.49178082191780825},\n",
              " {'model': 'Decisiontree', 'score': 0.3547945205479452},\n",
              " {'model': 'RandomForest', 'score': 0.5041095890410959},\n",
              " {'model': 'AdaBoost', 'score': 0.34406392694063925},\n",
              " {'model': 'MultinomialNB', 'score': 0.41963470319634705},\n",
              " {'model': 'KNN', 'score': 0.3372146118721461}]"
            ]
          },
          "metadata": {},
          "execution_count": 184
        }
      ]
    },
    {
      "cell_type": "code",
      "metadata": {
        "colab": {
          "base_uri": "https://localhost:8080/"
        },
        "id": "TlyQ4IlIhAsS",
        "outputId": "190cbf6f-79f1-482b-cf9d-4bc3d164744b"
      },
      "source": [
        "X_train, X_test, y_train, y_test = train_test_split(seq, human['class'], test_size= 0.3, random_state= 42)\n",
        "\n",
        "knn = KNeighborsClassifier()\n",
        "knn.fit(X_train, y_train)\n",
        "knn.score(X_test, y_test)\n",
        "# X_train[0].toarray()"
      ],
      "execution_count": null,
      "outputs": [
        {
          "output_type": "execute_result",
          "data": {
            "text/plain": [
              "0.7975646879756468"
            ]
          },
          "metadata": {},
          "execution_count": 24
        }
      ]
    },
    {
      "cell_type": "markdown",
      "metadata": {
        "id": "OBKjDIJ6i4EZ"
      },
      "source": [
        "# Comparing Human Chimpanzee and Dog DNA"
      ]
    },
    {
      "cell_type": "code",
      "metadata": {
        "id": "75krKxc8i8bI"
      },
      "source": [
        "h_dna = pd.read_table('/content/gdrive/MyDrive/Colab Notebooks/DNA dataset/human.txt')\n",
        "ch_dna = pd.read_table('/content/gdrive/MyDrive/Colab Notebooks/DNA dataset/chimpanzee.txt')\n",
        "d_dna = pd.read_table('/content/gdrive/MyDrive/Colab Notebooks/DNA dataset/dog.txt')"
      ],
      "execution_count": null,
      "outputs": []
    },
    {
      "cell_type": "code",
      "metadata": {
        "id": "l2Nl393ojJQP"
      },
      "source": [
        "h_dna = h_dna.drop('class', axis=1)\n",
        "ch_dna = ch_dna.drop('class', axis=1)\n",
        "d_dna = d_dna.drop('class', axis=1)"
      ],
      "execution_count": null,
      "outputs": []
    },
    {
      "cell_type": "code",
      "metadata": {
        "id": "1cBWH0CajXgw"
      },
      "source": [
        "# Human : 1, Chimpanzee: 2, Dog: 3\n",
        "\n",
        "h_dna['label'] = np.full(h_dna.shape, 1)\n",
        "ch_dna['label'] = np.full(ch_dna.shape, 2)\n",
        "d_dna['label'] = np.full(d_dna.shape, 3)\n"
      ],
      "execution_count": null,
      "outputs": []
    },
    {
      "cell_type": "code",
      "metadata": {
        "colab": {
          "base_uri": "https://localhost:8080/"
        },
        "id": "Zp0NsKGxnGCQ",
        "outputId": "9f83ff31-f52e-4b40-a9b1-c72b148d1937"
      },
      "source": [
        "print(h_dna.shape)\n",
        "print(ch_dna.shape)\n",
        "print(d_dna.shape)"
      ],
      "execution_count": null,
      "outputs": [
        {
          "output_type": "stream",
          "name": "stdout",
          "text": [
            "(4380, 2)\n",
            "(1682, 2)\n",
            "(820, 2)\n"
          ]
        }
      ]
    },
    {
      "cell_type": "code",
      "metadata": {
        "id": "HlqbDyI0nwsk"
      },
      "source": [
        "dna_df = pd.concat([h_dna.sample(1000),ch_dna.sample(1000),d_dna], ignore_index=True)"
      ],
      "execution_count": null,
      "outputs": []
    },
    {
      "cell_type": "code",
      "metadata": {
        "colab": {
          "base_uri": "https://localhost:8080/"
        },
        "id": "gr8WGwIpoUI0",
        "outputId": "3bfd0ced-a43b-4bd9-a0a4-64f2a54d386e"
      },
      "source": [
        "dna_df.info()"
      ],
      "execution_count": null,
      "outputs": [
        {
          "output_type": "stream",
          "name": "stdout",
          "text": [
            "<class 'pandas.core.frame.DataFrame'>\n",
            "RangeIndex: 2820 entries, 0 to 2819\n",
            "Data columns (total 2 columns):\n",
            " #   Column    Non-Null Count  Dtype \n",
            "---  ------    --------------  ----- \n",
            " 0   sequence  2820 non-null   object\n",
            " 1   label     2820 non-null   int64 \n",
            "dtypes: int64(1), object(1)\n",
            "memory usage: 44.2+ KB\n"
          ]
        }
      ]
    },
    {
      "cell_type": "code",
      "metadata": {
        "colab": {
          "base_uri": "https://localhost:8080/"
        },
        "id": "FLcwpJDFoWMR",
        "outputId": "6cb2a5ec-4d4b-4da6-b18b-5b7027542e3e"
      },
      "source": [
        "dna_df['label'].unique()"
      ],
      "execution_count": null,
      "outputs": [
        {
          "output_type": "execute_result",
          "data": {
            "text/plain": [
              "array([1, 2, 3])"
            ]
          },
          "metadata": {},
          "execution_count": 12
        }
      ]
    },
    {
      "cell_type": "code",
      "metadata": {
        "colab": {
          "base_uri": "https://localhost:8080/"
        },
        "id": "lbt4c_CVoawJ",
        "outputId": "9c104f8a-6b47-49fb-8869-b0278cbca27e"
      },
      "source": [
        "dna_df['label'].value_counts()"
      ],
      "execution_count": null,
      "outputs": [
        {
          "output_type": "execute_result",
          "data": {
            "text/plain": [
              "1    1000\n",
              "2    1000\n",
              "3     820\n",
              "Name: label, dtype: int64"
            ]
          },
          "metadata": {},
          "execution_count": 13
        }
      ]
    },
    {
      "cell_type": "code",
      "metadata": {
        "colab": {
          "base_uri": "https://localhost:8080/"
        },
        "id": "SuEa3fJuonqj",
        "outputId": "55b65b8e-b120-4ffb-ba86-d5c99d4987b2"
      },
      "source": [
        "X = Preprocess(dna_df['sequence'])\n",
        "X.shape"
      ],
      "execution_count": null,
      "outputs": [
        {
          "output_type": "execute_result",
          "data": {
            "text/plain": [
              "(2820, 713144)"
            ]
          },
          "metadata": {},
          "execution_count": 12
        }
      ]
    },
    {
      "cell_type": "code",
      "metadata": {
        "id": "SBK-e5TJpoae"
      },
      "source": [
        "y = dna_df['label']\n",
        "X_train, X_test, y_train, y_test = train_test_split(X, y, test_size= 0.3, random_state= 42, shuffle=True)"
      ],
      "execution_count": null,
      "outputs": []
    },
    {
      "cell_type": "code",
      "metadata": {
        "id": "ZCmSwNxSqDOX"
      },
      "source": [
        "clf = MultinomialNB()\n",
        "clf.fit(X_train, y_train)\n",
        "y_pred = clf.predict(X_test)"
      ],
      "execution_count": null,
      "outputs": []
    },
    {
      "cell_type": "code",
      "metadata": {
        "colab": {
          "base_uri": "https://localhost:8080/"
        },
        "id": "AZoSAWAZqPCd",
        "outputId": "06dbc9c7-4d9d-44f4-d824-efd1aa09cc14"
      },
      "source": [
        "accuracy_score(y_test, y_pred)"
      ],
      "execution_count": null,
      "outputs": [
        {
          "output_type": "execute_result",
          "data": {
            "text/plain": [
              "0.4385342789598109"
            ]
          },
          "metadata": {},
          "execution_count": 18
        }
      ]
    },
    {
      "cell_type": "code",
      "metadata": {
        "colab": {
          "base_uri": "https://localhost:8080/"
        },
        "id": "32biM04iqRya",
        "outputId": "2940fe28-f193-417e-8cee-95efe401c2be"
      },
      "source": [
        "clf = KNeighborsClassifier()\n",
        "clf.fit(X_train, y_train)\n",
        "y_pred = clf.predict(X_test)\n",
        "accuracy_score(y_test, y_pred)"
      ],
      "execution_count": null,
      "outputs": [
        {
          "output_type": "execute_result",
          "data": {
            "text/plain": [
              "0.3640661938534279"
            ]
          },
          "metadata": {},
          "execution_count": 19
        }
      ]
    },
    {
      "cell_type": "code",
      "metadata": {
        "colab": {
          "base_uri": "https://localhost:8080/"
        },
        "id": "FYmpITbsqXso",
        "outputId": "c60649dd-e6de-42a2-9ffe-e9444f328310"
      },
      "source": [
        "clf = RandomForestClassifier()\n",
        "clf.fit(X_train, y_train)\n",
        "y_pred = clf.predict(X_test)\n",
        "accuracy_score(y_test, y_pred)"
      ],
      "execution_count": null,
      "outputs": [
        {
          "output_type": "execute_result",
          "data": {
            "text/plain": [
              "0.5271867612293144"
            ]
          },
          "metadata": {},
          "execution_count": 20
        }
      ]
    },
    {
      "cell_type": "code",
      "metadata": {
        "colab": {
          "base_uri": "https://localhost:8080/"
        },
        "id": "tPTUh-cAqcva",
        "outputId": "cecda4dd-9741-4fdf-eaa2-52d17ca79656"
      },
      "source": [
        "clf = AdaBoostClassifier()\n",
        "clf.fit(X_train, y_train)\n",
        "y_pred = clf.predict(X_test)\n",
        "accuracy_score(y_test, y_pred)"
      ],
      "execution_count": null,
      "outputs": [
        {
          "output_type": "execute_result",
          "data": {
            "text/plain": [
              "0.4219858156028369"
            ]
          },
          "metadata": {},
          "execution_count": 21
        }
      ]
    },
    {
      "cell_type": "code",
      "metadata": {
        "id": "tqj-I5xsq0Jw"
      },
      "source": [
        "scores = []\n",
        "k = []\n",
        "for i in range(3,30):\n",
        "  knn = KNeighborsClassifier(n_neighbors=i)\n",
        "  k.append(i)\n",
        "  knn.fit(X_train, y_train)\n",
        "  pred = knn.predict(X_test)\n",
        "\n",
        "  scores.append(accuracy_score(y_test, pred))\n",
        "\n"
      ],
      "execution_count": null,
      "outputs": []
    },
    {
      "cell_type": "code",
      "metadata": {
        "colab": {
          "base_uri": "https://localhost:8080/",
          "height": 279
        },
        "id": "z3GdGuOsrhWl",
        "outputId": "f846866a-1961-46bc-80ff-9d3646d27ba1"
      },
      "source": [
        "import matplotlib.pyplot as plt\n",
        "plt.plot(k,scores, marker='*')\n",
        "plt.xlabel('Best K')\n",
        "plt.ylabel('Scores')\n",
        "plt.show()"
      ],
      "execution_count": null,
      "outputs": [
        {
          "output_type": "display_data",
          "data": {
            "image/png": "[encoded data removed]",
            "text/plain": [
              "<Figure size 432x288 with 1 Axes>"
            ]
          },
          "metadata": {
            "needs_background": "light"
          }
        }
      ]
    },
    {
      "cell_type": "code",
      "metadata": {
        "colab": {
          "base_uri": "https://localhost:8080/"
        },
        "id": "8oP_oYT8rrw0",
        "outputId": "3de8d67f-cf75-46dd-fc17-1c772ada6f2e"
      },
      "source": [
        "knn = KNeighborsClassifier(n_neighbors=3)\n",
        "rt = RandomForestClassifier(n_estimators=50)\n",
        "naive = MultinomialNB()\n",
        "ada = AdaBoostClassifier()\n",
        "\n",
        "clf = VotingClassifier(estimators=[\n",
        "            ('knn', knn), ('rt', rt), ('naive_bayes', naive), ('adaboost',ada)\n",
        "\n",
        "],voting='hard')\n",
        "\n",
        "clf.fit(X_train, y_train)\n",
        "y_pred = clf.predict(X_test)\n",
        "accuracy_score(y_test, y_pred)"
      ],
      "execution_count": null,
      "outputs": [
        {
          "output_type": "execute_result",
          "data": {
            "text/plain": [
              "0.4645390070921986"
            ]
          },
          "metadata": {},
          "execution_count": 61
        }
      ]
    },
    {
      "cell_type": "code",
      "metadata": {
        "id": "WWSgaezctSu4"
      },
      "source": [
        "def build_model(base_estimator, X, y):\n",
        "  X_train, X_test, y_train, y_test = train_test_split(X, y, test_size= 0.3, random_state= 42, shuffle=True)\n",
        "  base_estimator.fit(X,y)\n",
        "  y_pred = base_estimator.predict(X_test)\n",
        "\n",
        "  print('Accuracy: ', accuracy_score(y_test, y_pred))\n",
        "  print('\\n')\n",
        "  \n",
        "  cf_mat = confusion_matrix(y_test, y_pred)\n",
        "  sns.heatmap(cf_mat, annot=True)\n",
        "  plt.show()\n",
        "\n",
        "  print('\\n')\n",
        "\n",
        "  # print('ROC', roc_auc_score(y_test, base_estimator.predict_proba(X_test)[:,1]))\n",
        "\n",
        "  print('\\n')\n",
        "  \n",
        "  print(classification_report(y_test, y_pred))"
      ],
      "execution_count": null,
      "outputs": []
    },
    {
      "cell_type": "code",
      "metadata": {
        "id": "RMgSAmsgtwvT"
      },
      "source": [
        "def Preprocess(sequence, Vectorizer):\n",
        "\n",
        "  sequence = sequence.apply(lambda sequence, size=6: [sequence[x:x+size].lower() for x in range(len(sequence) - size + 1)])\n",
        "  sequence = sequence.apply(lambda seq: ' '.join(seq))\n",
        "  \n",
        "  vec = Vectorizer(ngram_range=(6,6))\n",
        "  \n",
        "  return vec.fit_transform(sequence)"
      ],
      "execution_count": null,
      "outputs": []
    },
    {
      "cell_type": "code",
      "metadata": {
        "id": "sEiRmHwZksnQ"
      },
      "source": [
        "def modeling(X, y):\n",
        "  models = {\n",
        "      'Logistic_reg': OneVsRestClassifier(LogisticRegression()),\n",
        "      'Decisiontree': DecisionTreeClassifier(),\n",
        "      'RandomForest':RandomForestClassifier(),\n",
        "      'AdaBoost': AdaBoostClassifier(),\n",
        "      'MultinomialNB':MultinomialNB(),\n",
        "      'KNN':KNeighborsClassifier()\n",
        "      \n",
        "  }\n",
        "\n",
        "  X_train, X_test, y_train, y_test = train_test_split(X, y, test_size= 0.3, random_state= 42, shuffle=True)\n",
        "\n",
        "  for model_name, model in models.items():\n",
        "    clf = GridSearchCV(model,param_grid={}, scoring='accuracy', cv=5)\n",
        "    clf.fit(X_train, y_train)\n",
        "    clf.predict(X_test)\n",
        "    print('\\n')\n",
        "    print(model_name)\n",
        "    \n",
        "    print('\\n')\n",
        "    print('Best Score: ')\n",
        "    print(clf.best_score_)\n",
        "\n",
        "    print('\\n')\n",
        "    print('Accuracy: ', accuracy_score(y_test, y_pred))\n",
        "    print('\\n')\n",
        "  \n",
        "    cf_mat = confusion_matrix(y_test, y_pred)\n",
        "    sns.heatmap(cf_mat, annot=True)\n",
        "    plt.show()\n",
        "\n",
        "    print('\\n')\n",
        "    \n",
        "    print(classification_report(y_test, y_pred))\n",
        "    print('End Training.....\\n\\n')"
      ],
      "execution_count": null,
      "outputs": []
    },
    {
      "cell_type": "code",
      "metadata": {
        "colab": {
          "base_uri": "https://localhost:8080/",
          "height": 572
        },
        "id": "otglfqOwYy2O",
        "outputId": "55c5ae1a-04ce-4144-900a-5d602c89c108"
      },
      "source": [
        "X = Preprocess(dna_df['sequence'],CountVectorizer)\n",
        "y = dna_df['label']\n",
        "\n",
        "print(X.shape)\n",
        "build_model(RandomForestClassifier(),X,y)\n"
      ],
      "execution_count": null,
      "outputs": [
        {
          "output_type": "stream",
          "name": "stdout",
          "text": [
            "(2820, 1362892)\n",
            "Accuracy:  0.9964539007092199\n",
            "\n",
            "\n"
          ]
        },
        {
          "output_type": "display_data",
          "data": {
            "image/png": "[encoded data removed]",
            "text/plain": [
              "<Figure size 432x288 with 2 Axes>"
            ]
          },
          "metadata": {
            "needs_background": "light"
          }
        },
        {
          "output_type": "stream",
          "name": "stdout",
          "text": [
            "\n",
            "\n",
            "\n",
            "\n",
            "              precision    recall  f1-score   support\n",
            "\n",
            "           1       1.00      0.99      0.99       293\n",
            "           2       0.99      1.00      1.00       305\n",
            "           3       1.00      1.00      1.00       248\n",
            "\n",
            "    accuracy                           1.00       846\n",
            "   macro avg       1.00      1.00      1.00       846\n",
            "weighted avg       1.00      1.00      1.00       846\n",
            "\n"
          ]
        }
      ]
    },
    {
      "cell_type": "code",
      "metadata": {
        "colab": {
          "base_uri": "https://localhost:8080/",
          "height": 573
        },
        "id": "YV_GQfyDZB73",
        "outputId": "6a84f728-f4cc-442f-b4d7-051464d624d2"
      },
      "source": [
        "X = Preprocess(dna_df['sequence'],HashingVectorizer)\n",
        "y = dna_df['label']\n",
        "\n",
        "print(X.shape)\n",
        "build_model(RandomForestClassifier(),X,y)\n"
      ],
      "execution_count": null,
      "outputs": [
        {
          "output_type": "stream",
          "name": "stdout",
          "text": [
            "(2820, 1048576)\n",
            "Accuracy:  0.9964539007092199\n",
            "\n",
            "\n"
          ]
        },
        {
          "output_type": "display_data",
          "data": {
            "image/png": "[encoded data removed]",
            "text/plain": [
              "<Figure size 432x288 with 2 Axes>"
            ]
          },
          "metadata": {
            "needs_background": "light"
          }
        },
        {
          "output_type": "stream",
          "name": "stdout",
          "text": [
            "\n",
            "\n",
            "\n",
            "\n",
            "              precision    recall  f1-score   support\n",
            "\n",
            "           1       0.99      1.00      0.99       293\n",
            "           2       1.00      0.99      1.00       305\n",
            "           3       1.00      1.00      1.00       248\n",
            "\n",
            "    accuracy                           1.00       846\n",
            "   macro avg       1.00      1.00      1.00       846\n",
            "weighted avg       1.00      1.00      1.00       846\n",
            "\n"
          ]
        }
      ]
    },
    {
      "cell_type": "code",
      "metadata": {
        "colab": {
          "base_uri": "https://localhost:8080/",
          "height": 571
        },
        "id": "0hbjo3kFein4",
        "outputId": "3a5c3dd2-aacc-4c5c-aa68-fe717d6f012f"
      },
      "source": [
        "X = Preprocess(dna_df['sequence'],TfidfVectorizer)\n",
        "y = dna_df['label']\n",
        "\n",
        "print(X.shape)\n",
        "build_model(KNeighborsClassifier(),X,y)\n"
      ],
      "execution_count": null,
      "outputs": [
        {
          "output_type": "stream",
          "name": "stdout",
          "text": [
            "(2820, 1362892)\n",
            "Accuracy:  0.5366430260047281\n",
            "\n",
            "\n"
          ]
        },
        {
          "output_type": "display_data",
          "data": {
            "image/png": "[encoded data removed]",
            "text/plain": [
              "<Figure size 432x288 with 2 Axes>"
            ]
          },
          "metadata": {
            "needs_background": "light"
          }
        },
        {
          "output_type": "stream",
          "name": "stdout",
          "text": [
            "\n",
            "\n",
            "\n",
            "\n",
            "              precision    recall  f1-score   support\n",
            "\n",
            "           1       0.46      0.84      0.60       293\n",
            "           2       0.63      0.50      0.56       305\n",
            "           3       0.81      0.22      0.34       248\n",
            "\n",
            "    accuracy                           0.54       846\n",
            "   macro avg       0.63      0.52      0.50       846\n",
            "weighted avg       0.62      0.54      0.51       846\n",
            "\n"
          ]
        }
      ]
    },
    {
      "cell_type": "code",
      "metadata": {
        "colab": {
          "base_uri": "https://localhost:8080/",
          "height": 572
        },
        "id": "eM3voejohMCj",
        "outputId": "66faffca-e379-4e08-e803-f8746e1543de"
      },
      "source": [
        "X = Preprocess(dna_df['sequence'],TfidfVectorizer)\n",
        "y = dna_df['label']\n",
        "\n",
        "print(X.shape)\n",
        "build_model(MultinomialNB(),X,y)\n"
      ],
      "execution_count": null,
      "outputs": [
        {
          "output_type": "stream",
          "name": "stdout",
          "text": [
            "(2820, 1362892)\n",
            "Accuracy:  0.8498817966903073\n",
            "\n",
            "\n"
          ]
        },
        {
          "output_type": "display_data",
          "data": {
            "image/png": "[encoded data removed]",
            "text/plain": [
              "<Figure size 432x288 with 2 Axes>"
            ]
          },
          "metadata": {
            "needs_background": "light"
          }
        },
        {
          "output_type": "stream",
          "name": "stdout",
          "text": [
            "\n",
            "\n",
            "\n",
            "\n",
            "              precision    recall  f1-score   support\n",
            "\n",
            "           1       0.80      0.84      0.82       293\n",
            "           2       0.80      0.83      0.81       305\n",
            "           3       1.00      0.89      0.94       248\n",
            "\n",
            "    accuracy                           0.85       846\n",
            "   macro avg       0.86      0.85      0.86       846\n",
            "weighted avg       0.86      0.85      0.85       846\n",
            "\n"
          ]
        }
      ]
    },
    {
      "cell_type": "code",
      "metadata": {
        "colab": {
          "base_uri": "https://localhost:8080/",
          "height": 572
        },
        "id": "VqwbL_mXhlM0",
        "outputId": "d58ba5a0-d672-4a1a-a784-7f321bdf0c66"
      },
      "source": [
        "X = Preprocess(dna_df['sequence'],TfidfVectorizer)\n",
        "y = dna_df['label']\n",
        "\n",
        "print(X.shape)\n",
        "build_model(RandomForestClassifier(),X,y)\n"
      ],
      "execution_count": null,
      "outputs": [
        {
          "output_type": "stream",
          "name": "stdout",
          "text": [
            "(2820, 1362892)\n",
            "Accuracy:  0.9976359338061466\n",
            "\n",
            "\n"
          ]
        },
        {
          "output_type": "display_data",
          "data": {
            "image/png": "[encoded data removed]",
            "text/plain": [
              "<Figure size 432x288 with 2 Axes>"
            ]
          },
          "metadata": {
            "needs_background": "light"
          }
        },
        {
          "output_type": "stream",
          "name": "stdout",
          "text": [
            "\n",
            "\n",
            "\n",
            "\n",
            "              precision    recall  f1-score   support\n",
            "\n",
            "           1       1.00      1.00      1.00       293\n",
            "           2       1.00      1.00      1.00       305\n",
            "           3       1.00      1.00      1.00       248\n",
            "\n",
            "    accuracy                           1.00       846\n",
            "   macro avg       1.00      1.00      1.00       846\n",
            "weighted avg       1.00      1.00      1.00       846\n",
            "\n"
          ]
        }
      ]
    },
    {
      "cell_type": "code",
      "metadata": {
        "colab": {
          "base_uri": "https://localhost:8080/",
          "height": 554
        },
        "id": "9WZFkmc8hvEz",
        "outputId": "6cf05786-7397-4008-a807-3e23a6c8d7d7"
      },
      "source": [
        "# X = Preprocess(dna_df['sequence'],TfidfVectorizer)\n",
        "# y = dna_df['label']\n",
        "\n",
        "# print(X.shape)\n",
        "# AdaBoost\n",
        "build_model(AdaBoostClassifier(),X,y)"
      ],
      "execution_count": null,
      "outputs": [
        {
          "output_type": "stream",
          "name": "stdout",
          "text": [
            "Accuracy:  0.5283687943262412\n",
            "\n",
            "\n"
          ]
        },
        {
          "output_type": "display_data",
          "data": {
            "image/png": "[encoded data removed]",
            "text/plain": [
              "<Figure size 432x288 with 2 Axes>"
            ]
          },
          "metadata": {
            "needs_background": "light"
          }
        },
        {
          "output_type": "stream",
          "name": "stdout",
          "text": [
            "\n",
            "\n",
            "\n",
            "\n",
            "              precision    recall  f1-score   support\n",
            "\n",
            "           1       0.43      0.93      0.59       293\n",
            "           2       0.75      0.15      0.25       305\n",
            "           3       0.86      0.52      0.65       248\n",
            "\n",
            "    accuracy                           0.53       846\n",
            "   macro avg       0.68      0.53      0.50       846\n",
            "weighted avg       0.67      0.53      0.48       846\n",
            "\n"
          ]
        }
      ]
    },
    {
      "cell_type": "code",
      "metadata": {
        "colab": {
          "base_uri": "https://localhost:8080/",
          "height": 556
        },
        "id": "EAgQiHDriihv",
        "outputId": "6533fa16-f46c-4823-a34c-ddeffad0b53f"
      },
      "source": [
        "# X = Preprocess(dna_df['sequence'],TfidfVectorizer)\n",
        "# y = dna_df['label']\n",
        "\n",
        "# print(X.shape)\n",
        "build_model(DecisionTreeClassifier(),X,y)\n"
      ],
      "execution_count": null,
      "outputs": [
        {
          "output_type": "stream",
          "name": "stdout",
          "text": [
            "Accuracy:  0.9976359338061466\n",
            "\n",
            "\n"
          ]
        },
        {
          "output_type": "display_data",
          "data": {
            "image/png": "[encoded data removed]",
            "text/plain": [
              "<Figure size 432x288 with 2 Axes>"
            ]
          },
          "metadata": {
            "needs_background": "light"
          }
        },
        {
          "output_type": "stream",
          "name": "stdout",
          "text": [
            "\n",
            "\n",
            "\n",
            "\n",
            "              precision    recall  f1-score   support\n",
            "\n",
            "           1       0.99      1.00      1.00       293\n",
            "           2       1.00      0.99      1.00       305\n",
            "           3       1.00      1.00      1.00       248\n",
            "\n",
            "    accuracy                           1.00       846\n",
            "   macro avg       1.00      1.00      1.00       846\n",
            "weighted avg       1.00      1.00      1.00       846\n",
            "\n"
          ]
        }
      ]
    },
    {
      "cell_type": "code",
      "metadata": {
        "id": "46K9yZ7TjB53"
      },
      "source": [
        "# Preprocess Data\n",
        "# Standardize\n",
        "# Evaluate Model\n",
        "\n",
        "X = Preprocess(dna_df['sequence'],TfidfVectorizer)\n",
        "y = dna_df['label']\n",
        "\n",
        "# scaler = StandardScaler()\n",
        "# X_scaled = scaler.fit_transform(X)\n",
        "\n",
        "# modeling(X_scaled, y)"
      ],
      "execution_count": null,
      "outputs": []
    },
    {
      "cell_type": "code",
      "metadata": {
        "id": "vE20FkQwmB0A"
      },
      "source": [
        ""
      ],
      "execution_count": null,
      "outputs": []
    },
    {
      "cell_type": "code",
      "metadata": {
        "colab": {
          "base_uri": "https://localhost:8080/",
          "height": 163
        },
        "id": "6IImaDoQmURI",
        "outputId": "93498b32-e27e-4cec-b66b-e632b9930933"
      },
      "source": [
        ""
      ],
      "execution_count": null,
      "outputs": [
        {
          "output_type": "error",
          "ename": "NameError",
          "evalue": "ignored",
          "traceback": [
            "\u001b[0;31m---------------------------------------------------------------------------\u001b[0m",
            "\u001b[0;31mNameError\u001b[0m                                 Traceback (most recent call last)",
            "\u001b[0;32m<ipython-input-1-bc5f1a0adac8>\u001b[0m in \u001b[0;36m<module>\u001b[0;34m()\u001b[0m\n\u001b[0;32m----> 1\u001b[0;31m \u001b[0mX\u001b[0m\u001b[0;34m.\u001b[0m\u001b[0mshape\u001b[0m\u001b[0;34m\u001b[0m\u001b[0;34m\u001b[0m\u001b[0m\n\u001b[0m",
            "\u001b[0;31mNameError\u001b[0m: name 'X' is not defined"
          ]
        }
      ]
    },
    {
      "cell_type": "code",
      "metadata": {
        "id": "Tnjfpb1PmlkE"
      },
      "source": [
        ""
      ],
      "execution_count": null,
      "outputs": []
    }
  ]
}