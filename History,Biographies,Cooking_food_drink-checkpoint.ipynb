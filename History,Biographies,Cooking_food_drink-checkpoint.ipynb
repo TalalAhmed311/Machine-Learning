{
 "cells": [
  {
   "cell_type": "code",
   "execution_count": 1,
   "metadata": {},
   "outputs": [],
   "source": [
    "import requests as req\n",
    "from bs4 import BeautifulSoup\n",
    "import pandas as pd"
   ]
  },
  {
   "cell_type": "code",
   "execution_count": 3,
   "metadata": {},
   "outputs": [],
   "source": [
    "# function Declaration\n",
    "\n",
    "def scrapData(links,s_cat,cat):\n",
    "    data=[]\n",
    "\n",
    "    for link in links:\n",
    "        page=req.get(link)\n",
    "        soup=BeautifulSoup(page.content,'html.parser')\n",
    "        items=soup.find_all(class_='caption')\n",
    "        for item in items:\n",
    "            arr=[item.find('a').get_text(),item.find(class_='author').get_text(),item.find(class_='price-new').get_text(),s_cat,cat]\n",
    "            data.append(arr)\n",
    "\n",
    "\n",
    "    author=[]\n",
    "    bookname=[]\n",
    "    price=[]\n",
    "    s_category=[]\n",
    "    category=[]\n",
    "\n",
    "    i=0\n",
    "    while i<(len(data)-1):\n",
    "        bookname.append(data[i][0])\n",
    "        author.append(data[i][1])\n",
    "        price.append(data[i][2])\n",
    "        s_category.append(data[i][3])\n",
    "        category.append(data[i][4])\n",
    "        i=i+1\n",
    "\n",
    "    # print(bookname)\n",
    "    # print(price)\n",
    "    # print(author)\n",
    "    # print(category)\n",
    "\n",
    "    df=pd.DataFrame({'Title':bookname,'Author':author,'Price':price,'Sub_category':s_category,'Category':category})\n",
    "    df.to_csv(s_cat+'.csv')\n",
    "\n",
    "\n",
    "\n"
   ]
  },
  {
   "cell_type": "code",
   "execution_count": 4,
   "metadata": {},
   "outputs": [],
   "source": [
    "links=['https://www.libertybooks.com/index.php?route=product/category&path=397_1375',\n",
    "      'https://www.libertybooks.com/index.php?route=product/category&path=397_1375&page=2',\n",
    "      'https://www.libertybooks.com/index.php?route=product/category&path=397_1375&page=3',\n",
    "      'https://www.libertybooks.com/index.php?route=product/category&path=397_1375&page=4',\n",
    "      'https://www.libertybooks.com/index.php?route=product/category&path=397_1375&page=5',\n",
    "      'https://www.libertybooks.com/index.php?route=product/category&path=397_1375_303',\n",
    "      'https://www.libertybooks.com/index.php?route=product/category&path=397_1375_303&page=2',\n",
    "      'https://www.libertybooks.com/index.php?route=product/category&path=397_1375_303&page=3',\n",
    "      'https://www.libertybooks.com/index.php?route=product/category&path=397_1375_303&page=4']\n",
    "\n",
    "scrapData(links,'History','History')"
   ]
  },
  {
   "cell_type": "code",
   "execution_count": 26,
   "metadata": {},
   "outputs": [],
   "source": []
  },
  {
   "cell_type": "code",
   "execution_count": 5,
   "metadata": {},
   "outputs": [],
   "source": [
    "links=['https://www.libertybooks.com/index.php?route=product/category&path=397_876',\n",
    "      'https://www.libertybooks.com/index.php?route=product/category&path=397_876&page=2',\n",
    "      'https://www.libertybooks.com/index.php?route=product/category&path=397_876&page=3',\n",
    "      'https://www.libertybooks.com/index.php?route=product/category&path=397_876&page=4',\n",
    "      'https://www.libertybooks.com/index.php?route=product/category&path=397_876&page=5',\n",
    "      'https://www.libertybooks.com/index.php?route=product/category&path=397_876&page=6',\n",
    "      'https://www.libertybooks.com/index.php?route=product/category&path=397_876&page=7',\n",
    "      'https://www.libertybooks.com/index.php?route=product/category&path=397_876&page=8',\n",
    "      'https://www.libertybooks.com/index.php?route=product/category&path=397_876&page=9']\n",
    "\n",
    "scrapData(links,'biograhies','Biograhpy')"
   ]
  },
  {
   "cell_type": "code",
   "execution_count": 6,
   "metadata": {},
   "outputs": [],
   "source": [
    "links=['https://www.libertybooks.com/index.php?route=product/category&path=397_876_877',\n",
    "      'https://www.libertybooks.com/index.php?route=product/category&path=397_876_877&page=2',\n",
    "      'https://www.libertybooks.com/index.php?route=product/category&path=397_876_877&page=3',\n",
    "      'https://www.libertybooks.com/index.php?route=product/category&path=397_876_877&page=4',\n",
    "      'https://www.libertybooks.com/index.php?route=product/category&path=397_876_877&page=5',\n",
    "      'https://www.libertybooks.com/index.php?route=product/category&path=397_876_877&page=6']\n",
    "\n",
    "\n",
    "scrapData(links,'auto_biographies','Biography')"
   ]
  },
  {
   "cell_type": "code",
   "execution_count": 7,
   "metadata": {},
   "outputs": [],
   "source": [
    "\n",
    "links=['https://www.libertybooks.com/index.php?route=product/category&path=397_876_879',\n",
    "      'https://www.libertybooks.com/index.php?route=product/category&path=397_876_879&page=2',\n",
    "      'https://www.libertybooks.com/index.php?route=product/category&path=397_876_879&page=3']\n",
    "\n",
    "\n",
    "\n",
    "scrapData(links,'memoirs','Biography')"
   ]
  },
  {
   "cell_type": "code",
   "execution_count": 9,
   "metadata": {},
   "outputs": [],
   "source": [
    "# Cooking and Food\n",
    "\n",
    "links=['https://www.libertybooks.com/index.php?route=product/category&path=397_931',\n",
    "      'https://www.libertybooks.com/index.php?route=product/category&path=397_931&page=2',\n",
    "      'https://www.libertybooks.com/index.php?route=product/category&path=397_931&page=3',\n",
    "      'https://www.libertybooks.com/index.php?route=product/category&path=397_931&page=4']\n",
    "\n",
    "\n",
    "\n",
    "scrapData(links,'Cooking_Food_Drink','Cooking_Food_Drink')"
   ]
  },
  {
   "cell_type": "code",
   "execution_count": null,
   "metadata": {},
   "outputs": [],
   "source": []
  },
  {
   "cell_type": "code",
   "execution_count": 10,
   "metadata": {},
   "outputs": [],
   "source": [
    "links=['https://www.libertybooks.com/index.php?route=product/category&path=397_931_934',\n",
    "      'https://www.libertybooks.com/index.php?route=product/category&path=397_931_934&page=2',\n",
    "      'https://www.libertybooks.com/index.php?route=product/category&path=397_931_934&page=3',\n",
    "      'https://www.libertybooks.com/index.php?route=product/category&path=397_931_934&page=4',\n",
    "      'https://www.libertybooks.com/index.php?route=product/category&path=397_931_934&page=5']\n",
    "\n",
    "\n",
    "scrapData(links,'cook_book','Cooking_Food_Drink')"
   ]
  },
  {
   "cell_type": "code",
   "execution_count": 11,
   "metadata": {},
   "outputs": [],
   "source": [
    "\n",
    "links=['https://www.libertybooks.com/index.php?route=product/category&path=397_931_932',\n",
    "      'https://www.libertybooks.com/index.php?route=product/category&path=397_931_932&page=2',\n",
    "      'https://www.libertybooks.com/index.php?route=product/category&path=397_931_932&page=3',\n",
    "      'https://www.libertybooks.com/index.php?route=product/category&path=397_931_932&page=4']\n",
    "\n",
    "\n",
    "\n",
    "scrapData(links,'international_cusine','Cooking_Food_Drink')"
   ]
  },
  {
   "cell_type": "code",
   "execution_count": 12,
   "metadata": {},
   "outputs": [],
   "source": [
    "links=['https://www.libertybooks.com/index.php?route=product/category&path=397_931_933',\n",
    "      'https://www.libertybooks.com/index.php?route=product/category&path=397_931_933&page=2']\n",
    "\n",
    "\n",
    "\n",
    "\n",
    "scrapData(links,'regional_cooking','Cooking_Food_Drink')"
   ]
  },
  {
   "cell_type": "code",
   "execution_count": 13,
   "metadata": {},
   "outputs": [],
   "source": [
    "#health_and_fitness\n",
    "\n",
    "\n",
    "links=['https://www.libertybooks.com/index.php?route=product/category&path=397_931_1121',\n",
    "      'https://www.libertybooks.com/index.php?route=product/category&path=397_931_1121&page=2',\n",
    "      'https://www.libertybooks.com/index.php?route=product/category&path=397_931_1121&page=3',\n",
    "      'https://www.libertybooks.com/index.php?route=product/category&path=397_931_1121&page=4',\n",
    "      'https://www.libertybooks.com/index.php?route=product/category&path=397_931_1121&page=5',\n",
    "      'https://www.libertybooks.com/index.php?route=product/category&path=397_931_1121&page=6',\n",
    "      'https://www.libertybooks.com/index.php?route=product/category&path=397_931_1121&page=7',\n",
    "      'https://www.libertybooks.com/index.php?route=product/category&path=397_931_1121&page=8',\n",
    "      'https://www.libertybooks.com/index.php?route=product/category&path=397_931_1121&page=9',\n",
    "      'https://www.libertybooks.com/index.php?route=product/category&path=397_931_1121_937',\n",
    "      'https://www.libertybooks.com/index.php?route=product/category&path=397_931_1121_937&page=2',\n",
    "      'https://www.libertybooks.com/index.php?route=product/category&path=397_931_1121_938',\n",
    "      'https://www.libertybooks.com/index.php?route=product/category&path=397_931_1121_935',\n",
    "      'https://www.libertybooks.com/index.php?route=product/category&path=397_931_1121_935&page=2']\n",
    "\n",
    "\n",
    "scrapData(links,'health_and_fitness','Cooking_Food_Drink')\n"
   ]
  },
  {
   "cell_type": "code",
   "execution_count": null,
   "metadata": {},
   "outputs": [],
   "source": []
  }
 ],
 "metadata": {
  "kernelspec": {
   "display_name": "Python 3",
   "language": "python",
   "name": "python3"
  },
  "language_info": {
   "codemirror_mode": {
    "name": "ipython",
    "version": 3
   },
   "file_extension": ".py",
   "mimetype": "text/x-python",
   "name": "python",
   "nbconvert_exporter": "python",
   "pygments_lexer": "ipython3",
   "version": "3.8.5"
  }
 },
 "nbformat": 4,
 "nbformat_minor": 4
}
